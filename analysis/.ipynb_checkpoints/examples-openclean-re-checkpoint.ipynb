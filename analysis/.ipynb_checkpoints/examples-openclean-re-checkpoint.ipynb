{
 "cells": [
  {
   "cell_type": "markdown",
   "metadata": {},
   "source": [
    "## OpenClean-Re Examples"
   ]
  },
  {
   "cell_type": "code",
   "execution_count": 1,
   "metadata": {
    "scrolled": true
   },
   "outputs": [],
   "source": [
    "import os\n",
    "os.chdir('../../')\n",
    "\n",
    "from openclean.patternfinder import PatternFinder\n",
    "import pandas as pd\n",
    "import csv, time, gc"
   ]
  },
  {
   "cell_type": "code",
   "execution_count": 2,
   "metadata": {},
   "outputs": [
    {
     "data": {
      "text/plain": [
       "'/home/munaf/PycharmProjects/OpenRefine_Regex/src/openclean'"
      ]
     },
     "execution_count": 2,
     "metadata": {},
     "output_type": "execute_result"
    }
   ],
   "source": [
    "os.getcwd()"
   ]
  },
  {
   "cell_type": "code",
   "execution_count": 3,
   "metadata": {},
   "outputs": [],
   "source": [
    "PATH = os.path.join('/home/munaf/PycharmProjects/OpenRefine_Regex/')\n",
    "DATADIR = os.path.join(PATH, \"data/open2test/\")\n",
    "OUTPUTDIR = os.path.join(PATH, \"out/open2test/\")"
   ]
  },
  {
   "cell_type": "markdown",
   "metadata": {},
   "source": [
    "### Parameters"
   ]
  },
  {
   "cell_type": "markdown",
   "metadata": {},
   "source": [
    "- <b>series:</b> input column. PatternFinder can injest:\n",
    "    - a dict() in the form value:frequency\n",
    "    - a list() of all row values"
   ]
  },
  {
   "cell_type": "markdown",
   "metadata": {},
   "source": [
    "- <b>frac:</b> sample size in percentage"
   ]
  },
  {
   "cell_type": "markdown",
   "metadata": {},
   "source": [
    "- <b>aligner:</b> Select an aligner\n",
    "    - None - no aligner specified. This forces the patternfinder to use a lightweight version which clusters columns together on # of tokens identified\n",
    "    - 'comb' - _default_ - the heavyweight aligner which iterates through all possible pairwise alignments, calculates the [TDE distance](https://vldb.org/pvldb/vol11/p1165-he.pdf), and clusters them using DBSCAN. Note: that all hyperparameters have been heuristically preset for now. A future version will make them configurable.     \n",
    "    - ['lingpy'](http://lingpy.org/intro.html) - performs multiple sequence alignment on phonetic sounds. Prelim tests showed poor performance."
   ]
  },
  {
   "cell_type": "markdown",
   "metadata": {},
   "source": [
    "- <b>distance:</b> Distances available:\n",
    "    - 'TDE' \n",
    "    - 'ETDE' (enhanced: TDE: also considers the supported domain datatypes when calculating distance. This is _default_ when running encode_and_find()) \n",
    "    - 'ABS' (Absolute - difference b/w the cardinality of rows"
   ]
  },
  {
   "cell_type": "markdown",
   "metadata": {},
   "source": [
    "- (deprecated) <b>tokenizer:</b> Select a tokenizer\n",
    "    - 'smart' - searches the master datasets and replaces found values with identified classes followed by tokenizing. Currently supported include:\n",
    "        - GeoSpatial(Country, County, State),\n",
    "        - Date(Weekday, Month),\n",
    "        - Address(Street, SUD) and \n",
    "        - Business Entity(e.g. LLC, INC etc)\n",
    "    - 'punc' - _default_ - identifies and splits tokens on punctuation \n",
    "      "
   ]
  },
  {
   "cell_type": "markdown",
   "metadata": {},
   "source": [
    "- (deprecated) <b>encode:</b> set to true if you want to replace row values not identified in the master data with their internal representations (alpha, alphanum, numeric, punc) ignoring intermediate representations (e.g. myXXXXX) prior to alignment."
   ]
  },
  {
   "cell_type": "markdown",
   "metadata": {},
   "source": [
    "#### the deprecated parameters have been replaced with a dedicated endpoint"
   ]
  },
  {
   "cell_type": "markdown",
   "metadata": {},
   "source": [
    "### Methods"
   ]
  },
  {
   "cell_type": "markdown",
   "metadata": {},
   "source": [
    "#####  PatternFinder(series).find()\n",
    "- tokenizes columns on punctuation\n",
    "- aligns the tokens\n",
    "- encodes them into the internal representations (doesnt support domain specific data types yet)\n",
    "- calculates the regex\n",
    "- detects outliers"
   ]
  },
  {
   "cell_type": "markdown",
   "metadata": {},
   "source": [
    "##### PatternFinder(series, distance='ETDE').encode_and_find()\n",
    "- tokenizes columns on punctuation\n",
    "- encodes them into the internal representations (supports domain specific data types)\n",
    "- aligns the internally represented tokens\n",
    "- calculates the regex\n",
    "- detects outliers"
   ]
  },
  {
   "cell_type": "markdown",
   "metadata": {},
   "source": [
    "##### PatternFinder(series).evaluate(column, encode)\n",
    "- tokenizes column in a similar way to the original series (set using the encode flag)\n",
    "- encodes into representations deciding whether to encode\n",
    "- matches the representations to the series patterns for each cluster - pattern and generalized\n",
    "- returns a dict with pattern and % of the column that matched each pattern"
   ]
  },
  {
   "cell_type": "markdown",
   "metadata": {},
   "source": [
    "_________________________________________________________________________________________________________________"
   ]
  },
  {
   "cell_type": "markdown",
   "metadata": {},
   "source": [
    "### Pattern Finder Workflow\n",
    "I've used some major components here. This can be modified depending on differing use cases. e.g. encode_and_find()"
   ]
  },
  {
   "cell_type": "code",
   "execution_count": 4,
   "metadata": {},
   "outputs": [],
   "source": [
    "filename = 'location.csv'\n",
    "FILEPATH = os.path.join(DATADIR, filename)"
   ]
  },
  {
   "cell_type": "code",
   "execution_count": 5,
   "metadata": {},
   "outputs": [],
   "source": [
    "df = pd.read_csv(FILEPATH, sep='\\t', squeeze=False, header=None)\n",
    "if df.shape[1] == 2:\n",
    "    series = df.set_index(0).squeeze().to_dict()\n",
    "elif df.shape[0] == 1:\n",
    "    series = df[0].tolist()\n",
    "else:\n",
    "    raise ValueError(file)"
   ]
  },
  {
   "cell_type": "code",
   "execution_count": 6,
   "metadata": {},
   "outputs": [
    {
     "data": {
      "text/html": [
       "<div>\n",
       "<style scoped>\n",
       "    .dataframe tbody tr th:only-of-type {\n",
       "        vertical-align: middle;\n",
       "    }\n",
       "\n",
       "    .dataframe tbody tr th {\n",
       "        vertical-align: top;\n",
       "    }\n",
       "\n",
       "    .dataframe thead th {\n",
       "        text-align: right;\n",
       "    }\n",
       "</style>\n",
       "<table border=\"1\" class=\"dataframe\">\n",
       "  <thead>\n",
       "    <tr style=\"text-align: right;\">\n",
       "      <th></th>\n",
       "      <th>0</th>\n",
       "      <th>1</th>\n",
       "    </tr>\n",
       "  </thead>\n",
       "  <tbody>\n",
       "    <tr>\n",
       "      <th>0</th>\n",
       "      <td>137 HEBERTON AVENUE STATEN ISLAND NY (40.63677...</td>\n",
       "      <td>1</td>\n",
       "    </tr>\n",
       "    <tr>\n",
       "      <th>1</th>\n",
       "      <td>261 LINCOLN AVENUE STATEN ISLAND NY (40.576986...</td>\n",
       "      <td>10</td>\n",
       "    </tr>\n",
       "    <tr>\n",
       "      <th>2</th>\n",
       "      <td>1950 CLOVE ROAD STATEN ISLAND NY (40.606004051...</td>\n",
       "      <td>1</td>\n",
       "    </tr>\n",
       "    <tr>\n",
       "      <th>3</th>\n",
       "      <td>20 COURT STREET STATEN ISLAND NY (40.627181943...</td>\n",
       "      <td>1</td>\n",
       "    </tr>\n",
       "    <tr>\n",
       "      <th>4</th>\n",
       "      <td>280 BEACH AVENUE STATEN ISLAND NY (40.60667400...</td>\n",
       "      <td>1</td>\n",
       "    </tr>\n",
       "  </tbody>\n",
       "</table>\n",
       "</div>"
      ],
      "text/plain": [
       "                                                   0   1\n",
       "0  137 HEBERTON AVENUE STATEN ISLAND NY (40.63677...   1\n",
       "1  261 LINCOLN AVENUE STATEN ISLAND NY (40.576986...  10\n",
       "2  1950 CLOVE ROAD STATEN ISLAND NY (40.606004051...   1\n",
       "3  20 COURT STREET STATEN ISLAND NY (40.627181943...   1\n",
       "4  280 BEACH AVENUE STATEN ISLAND NY (40.60667400...   1"
      ]
     },
     "execution_count": 6,
     "metadata": {},
     "output_type": "execute_result"
    }
   ],
   "source": [
    "#column 0 -> row value, column 1 -> frequency (optional - for PatternFinder object)\n",
    "# other preprocessing done includes lower(), replace('\\'',''), sampling\n",
    "series = df[0]\n",
    "df.head()"
   ]
  },
  {
   "cell_type": "code",
   "execution_count": 7,
   "metadata": {},
   "outputs": [
    {
     "data": {
      "text/plain": [
       "0    [137,  , HEBERTON,  , AVENUE,  , STATEN,  , IS...\n",
       "1    [261,  , LINCOLN,  , AVENUE,  , STATEN,  , ISL...\n",
       "2    [1950,  , CLOVE,  , ROAD,  , STATEN,  , ISLAND...\n",
       "3    [20,  , COURT,  , STREET,  , STATEN,  , ISLAND...\n",
       "4    [280,  , BEACH,  , AVENUE,  , STATEN,  , ISLAN...\n",
       "5    [162,  , ST,  , MARY, ', S,  , AVENUE,  , STAT...\n",
       "6    [7,  , BENTON,  , COURT,  , STATEN,  , ISLAND,...\n",
       "7    [330,  , BARD,  , AVENUE,  , STATEN,  , ISLAND...\n",
       "8    [25,  , BAY,  , TERRACE,  , STATEN,  , ISLAND,...\n",
       "9    [395,  , VICTORY,  , BOULEVARD,  , STATEN,  , ...\n",
       "Name: 0, dtype: object"
      ]
     },
     "execution_count": 7,
     "metadata": {},
     "output_type": "execute_result"
    }
   ],
   "source": [
    "from openclean.tokenize.regex import RegexTokenizer\n",
    "\n",
    "rt = RegexTokenizer().tokenize(series)\n",
    "rt"
   ]
  },
  {
   "cell_type": "code",
   "execution_count": 8,
   "metadata": {},
   "outputs": [
    {
     "data": {
      "text/html": [
       "<div>\n",
       "<style scoped>\n",
       "    .dataframe tbody tr th:only-of-type {\n",
       "        vertical-align: middle;\n",
       "    }\n",
       "\n",
       "    .dataframe tbody tr th {\n",
       "        vertical-align: top;\n",
       "    }\n",
       "\n",
       "    .dataframe thead th {\n",
       "        text-align: right;\n",
       "    }\n",
       "</style>\n",
       "<table border=\"1\" class=\"dataframe\">\n",
       "  <thead>\n",
       "    <tr style=\"text-align: right;\">\n",
       "      <th></th>\n",
       "      <th>tokens</th>\n",
       "      <th>cluster</th>\n",
       "      <th>aligned</th>\n",
       "    </tr>\n",
       "  </thead>\n",
       "  <tbody>\n",
       "    <tr>\n",
       "      <th>0</th>\n",
       "      <td>[137,  , HEBERTON,  , AVENUE,  , STATEN,  , IS...</td>\n",
       "      <td>0</td>\n",
       "      <td>[137,  , HEBERTON,  , AVENUE,  , STATEN,  , IS...</td>\n",
       "    </tr>\n",
       "    <tr>\n",
       "      <th>1</th>\n",
       "      <td>[261,  , LINCOLN,  , AVENUE,  , STATEN,  , ISL...</td>\n",
       "      <td>0</td>\n",
       "      <td>[261,  , LINCOLN,  , AVENUE,  , STATEN,  , ISL...</td>\n",
       "    </tr>\n",
       "    <tr>\n",
       "      <th>2</th>\n",
       "      <td>[1950,  , CLOVE,  , ROAD,  , STATEN,  , ISLAND...</td>\n",
       "      <td>0</td>\n",
       "      <td>[1950,  , CLOVE,  , ROAD,  , STATEN,  , ISLAND...</td>\n",
       "    </tr>\n",
       "    <tr>\n",
       "      <th>3</th>\n",
       "      <td>[20,  , COURT,  , STREET,  , STATEN,  , ISLAND...</td>\n",
       "      <td>0</td>\n",
       "      <td>[20,  , COURT,  , STREET,  , STATEN,  , ISLAND...</td>\n",
       "    </tr>\n",
       "    <tr>\n",
       "      <th>4</th>\n",
       "      <td>[280,  , BEACH,  , AVENUE,  , STATEN,  , ISLAN...</td>\n",
       "      <td>0</td>\n",
       "      <td>[280,  , BEACH,  , AVENUE,  , STATEN,  , ISLAN...</td>\n",
       "    </tr>\n",
       "    <tr>\n",
       "      <th>5</th>\n",
       "      <td>[162,  , ST,  , MARY, ', S,  , AVENUE,  , STAT...</td>\n",
       "      <td>-1</td>\n",
       "      <td>[162,  , ST,  , MARY, ', S,  , AVENUE,  , STAT...</td>\n",
       "    </tr>\n",
       "    <tr>\n",
       "      <th>6</th>\n",
       "      <td>[7,  , BENTON,  , COURT,  , STATEN,  , ISLAND,...</td>\n",
       "      <td>0</td>\n",
       "      <td>[7,  , BENTON,  , COURT,  , STATEN,  , ISLAND,...</td>\n",
       "    </tr>\n",
       "    <tr>\n",
       "      <th>7</th>\n",
       "      <td>[330,  , BARD,  , AVENUE,  , STATEN,  , ISLAND...</td>\n",
       "      <td>0</td>\n",
       "      <td>[330,  , BARD,  , AVENUE,  , STATEN,  , ISLAND...</td>\n",
       "    </tr>\n",
       "    <tr>\n",
       "      <th>8</th>\n",
       "      <td>[25,  , BAY,  , TERRACE,  , STATEN,  , ISLAND,...</td>\n",
       "      <td>0</td>\n",
       "      <td>[25,  , BAY,  , TERRACE,  , STATEN,  , ISLAND,...</td>\n",
       "    </tr>\n",
       "    <tr>\n",
       "      <th>9</th>\n",
       "      <td>[395,  , VICTORY,  , BOULEVARD,  , STATEN,  , ...</td>\n",
       "      <td>0</td>\n",
       "      <td>[395,  , VICTORY,  , BOULEVARD,  , STATEN,  , ...</td>\n",
       "    </tr>\n",
       "  </tbody>\n",
       "</table>\n",
       "</div>"
      ],
      "text/plain": [
       "                                              tokens  cluster  \\\n",
       "0  [137,  , HEBERTON,  , AVENUE,  , STATEN,  , IS...        0   \n",
       "1  [261,  , LINCOLN,  , AVENUE,  , STATEN,  , ISL...        0   \n",
       "2  [1950,  , CLOVE,  , ROAD,  , STATEN,  , ISLAND...        0   \n",
       "3  [20,  , COURT,  , STREET,  , STATEN,  , ISLAND...        0   \n",
       "4  [280,  , BEACH,  , AVENUE,  , STATEN,  , ISLAN...        0   \n",
       "5  [162,  , ST,  , MARY, ', S,  , AVENUE,  , STAT...       -1   \n",
       "6  [7,  , BENTON,  , COURT,  , STATEN,  , ISLAND,...        0   \n",
       "7  [330,  , BARD,  , AVENUE,  , STATEN,  , ISLAND...        0   \n",
       "8  [25,  , BAY,  , TERRACE,  , STATEN,  , ISLAND,...        0   \n",
       "9  [395,  , VICTORY,  , BOULEVARD,  , STATEN,  , ...        0   \n",
       "\n",
       "                                             aligned  \n",
       "0  [137,  , HEBERTON,  , AVENUE,  , STATEN,  , IS...  \n",
       "1  [261,  , LINCOLN,  , AVENUE,  , STATEN,  , ISL...  \n",
       "2  [1950,  , CLOVE,  , ROAD,  , STATEN,  , ISLAND...  \n",
       "3  [20,  , COURT,  , STREET,  , STATEN,  , ISLAND...  \n",
       "4  [280,  , BEACH,  , AVENUE,  , STATEN,  , ISLAN...  \n",
       "5  [162,  , ST,  , MARY, ', S,  , AVENUE,  , STAT...  \n",
       "6  [7,  , BENTON,  , COURT,  , STATEN,  , ISLAND,...  \n",
       "7  [330,  , BARD,  , AVENUE,  , STATEN,  , ISLAND...  \n",
       "8  [25,  , BAY,  , TERRACE,  , STATEN,  , ISLAND,...  \n",
       "9  [395,  , VICTORY,  , BOULEVARD,  , STATEN,  , ...  "
      ]
     },
     "execution_count": 8,
     "metadata": {},
     "output_type": "execute_result"
    }
   ],
   "source": [
    "from openclean.align.combinatorics import CombAligner\n",
    "\n",
    "ca = CombAligner().get_aligned(rt)\n",
    "ca"
   ]
  },
  {
   "cell_type": "code",
   "execution_count": 9,
   "metadata": {
    "scrolled": true
   },
   "outputs": [],
   "source": [
    "# remove alignment outliers\n",
    "outliers = ca[ca['cluster']==-1]\n",
    "non_outliers = ca[ca['cluster']!=-1]\n",
    "\n",
    "# create frequency dict from the new aligned column \n",
    "ca['column'] = non_outliers.tokens.str.join('')\n",
    "full_ca = ca.merge(df,left_on='column',right_on=0)\n",
    "full_ca['aligned_hashable'] = full_ca.aligned.str.join('')\n",
    "frequency_dict = full_ca[['aligned_hashable',1]].set_index('aligned_hashable').to_dict()[1]"
   ]
  },
  {
   "cell_type": "code",
   "execution_count": 10,
   "metadata": {
    "scrolled": true
   },
   "outputs": [
    {
     "data": {
      "text/plain": [
       "RegexRow([RegexToken('NUMERIC',3,'261', 10), RegexToken('PUNC',1,' ', 10), RegexToken('ALPHA',7,'LINCOLN', 10), RegexToken('PUNC',1,' ', 10), RegexToken('ALPHA',6,'AVENUE', 10), RegexToken('PUNC',1,' ', 10), RegexToken('ALPHA',6,'STATEN', 10), RegexToken('PUNC',1,' ', 10), RegexToken('ALPHA',6,'ISLAND', 10), RegexToken('PUNC',1,' ', 10), RegexToken('ALPHA',2,'NY', 10), RegexToken('PUNC',1,' ', 10), RegexToken('PUNC',1,'(', 10), RegexToken('NUMERIC',2,'40', 10), RegexToken('PUNC',1,'.', 10), RegexToken('NUMERIC',12,'576986694649', 10), RegexToken('PUNC',1,' ', 10), RegexToken('PUNC',1,'-', 10), RegexToken('NUMERIC',2,'74', 10), RegexToken('PUNC',1,'.', 10), RegexToken('NUMERIC',12,'104670051676', 10), RegexToken('PUNC',1,')', 10)], 10)"
      ]
     },
     "execution_count": 10,
     "metadata": {},
     "output_type": "execute_result"
    }
   ],
   "source": [
    "from openclean.regex.compiler import RegexCompiler\n",
    "\n",
    "# encode the aligned tokens to internal representations of RegexRows and RegexTokens\n",
    "# note: this does not use master data classes\n",
    "\n",
    "regex_matrix, _ = RegexCompiler.compile(aligned_rows=non_outliers['aligned'].to_numpy(), frequency_dict=frequency_dict)\n",
    "regex_matrix[1]"
   ]
  },
  {
   "cell_type": "code",
   "execution_count": 11,
   "metadata": {
    "scrolled": true
   },
   "outputs": [
    {
     "name": "stdout",
     "output_type": "stream",
     "text": [
      "[NUMERIC(1-4)] [PUNC(\\S)] [ALPHA(3-8)] [PUNC(\\S)] [ALPHA(4-9) | STREET(6-6)] [PUNC(\\S)] [ALPHA(6-6)] [PUNC(\\S)] [ALPHA(6-6)] [PUNC(\\S)] [ALPHA(2-2)] [PUNC(\\S)] [PUNC(()] [NUMERIC(2-2)] [PUNC(.)] [NUMERIC(9-12)] [PUNC(\\S)] [PUNC(-)] [NUMERIC(2-2)] [PUNC(.)] [NUMERIC(10-12)] [PUNC())] \n"
     ]
    }
   ],
   "source": [
    "# create regex string\n",
    "# RegexCompiler.generate_regex_from_matrix(regex_matrix)\n",
    "\n",
    "# or manually\n",
    "from openclean.regex.pattern_generator import RegexTokensPattern\n",
    "\n",
    "full_regex = general_full_regex = str()\n",
    "matrix = regex_matrix\n",
    "\n",
    "for col in range(matrix[0].get_size()):\n",
    "    column_regex = RegexTokensPattern()\n",
    "    for row in range(len(matrix)):\n",
    "        token = matrix[row].get_regex_token(col).get_token()\n",
    "        \n",
    "        # inserts token incrementally to build the piecewise regex\n",
    "        column_regex.insert_token(token) # can be used to add other \n",
    "        # rows to update the pattern e.g. those identified as outliers\n",
    "    \n",
    "    fr, gfr = column_regex.condense()\n",
    "    full_regex += fr + ' '\n",
    "    general_full_regex += gfr + ' '\n",
    "    \n",
    "print(full_regex)"
   ]
  },
  {
   "cell_type": "markdown",
   "metadata": {},
   "source": [
    "________________________________________________________________________________________"
   ]
  },
  {
   "cell_type": "markdown",
   "metadata": {},
   "source": [
    "### Examples"
   ]
  },
  {
   "cell_type": "code",
   "execution_count": 12,
   "metadata": {},
   "outputs": [],
   "source": [
    "filename = 'email.csv'\n",
    "FILEPATH = os.path.join(DATADIR, filename)"
   ]
  },
  {
   "cell_type": "code",
   "execution_count": 13,
   "metadata": {},
   "outputs": [],
   "source": [
    "df = pd.read_csv(FILEPATH, sep='\\t', squeeze=False, header=None)\n",
    "if df.shape[1] == 2:\n",
    "    series = df.set_index(0).squeeze().to_dict()\n",
    "elif df.shape[0] == 1:\n",
    "    series = df[0].tolist()\n",
    "else:\n",
    "    raise ValueError(file)"
   ]
  },
  {
   "cell_type": "code",
   "execution_count": 14,
   "metadata": {
    "scrolled": true
   },
   "outputs": [
    {
     "data": {
      "text/html": [
       "<div>\n",
       "<style scoped>\n",
       "    .dataframe tbody tr th:only-of-type {\n",
       "        vertical-align: middle;\n",
       "    }\n",
       "\n",
       "    .dataframe tbody tr th {\n",
       "        vertical-align: top;\n",
       "    }\n",
       "\n",
       "    .dataframe thead th {\n",
       "        text-align: right;\n",
       "    }\n",
       "</style>\n",
       "<table border=\"1\" class=\"dataframe\">\n",
       "  <thead>\n",
       "    <tr style=\"text-align: right;\">\n",
       "      <th></th>\n",
       "      <th>0</th>\n",
       "      <th>1</th>\n",
       "    </tr>\n",
       "  </thead>\n",
       "  <tbody>\n",
       "    <tr>\n",
       "      <th>0</th>\n",
       "      <td>BBASSEN@EWHOWELL.COM</td>\n",
       "      <td>2</td>\n",
       "    </tr>\n",
       "    <tr>\n",
       "      <th>1</th>\n",
       "      <td>EDWARDHICKSRA@YAHOO.COM</td>\n",
       "      <td>1</td>\n",
       "    </tr>\n",
       "    <tr>\n",
       "      <th>2</th>\n",
       "      <td>JB@MESZENGINEERING.COM</td>\n",
       "      <td>1</td>\n",
       "    </tr>\n",
       "    <tr>\n",
       "      <th>3</th>\n",
       "      <td>JEMMCO9@GMAIL.COM</td>\n",
       "      <td>1</td>\n",
       "    </tr>\n",
       "    <tr>\n",
       "      <th>4</th>\n",
       "      <td>DWARFIELD@BANCKER.COM</td>\n",
       "      <td>1</td>\n",
       "    </tr>\n",
       "    <tr>\n",
       "      <th>5</th>\n",
       "      <td>MIKIGAL@AOL.COM</td>\n",
       "      <td>2</td>\n",
       "    </tr>\n",
       "    <tr>\n",
       "      <th>6</th>\n",
       "      <td>SHLOMONKUB@GMAIL.COM</td>\n",
       "      <td>1</td>\n",
       "    </tr>\n",
       "    <tr>\n",
       "      <th>7</th>\n",
       "      <td>GLENBAKHSHI@AOL.COM</td>\n",
       "      <td>1</td>\n",
       "    </tr>\n",
       "    <tr>\n",
       "      <th>8</th>\n",
       "      <td>FVILLANO@FPVCONSULTING.COM</td>\n",
       "      <td>1</td>\n",
       "    </tr>\n",
       "    <tr>\n",
       "      <th>9</th>\n",
       "      <td>DENNISAUGUST@ICLOUD.COM</td>\n",
       "      <td>1</td>\n",
       "    </tr>\n",
       "    <tr>\n",
       "      <th>10</th>\n",
       "      <td>JASON@RSFERS.COM</td>\n",
       "      <td>2</td>\n",
       "    </tr>\n",
       "    <tr>\n",
       "      <th>11</th>\n",
       "      <td>ACLEMENZA@BECF.COM</td>\n",
       "      <td>1</td>\n",
       "    </tr>\n",
       "    <tr>\n",
       "      <th>12</th>\n",
       "      <td>INFO@ZIENGINEERING.COM</td>\n",
       "      <td>1</td>\n",
       "    </tr>\n",
       "    <tr>\n",
       "      <th>13</th>\n",
       "      <td>ARAMVCOLINARES@GMAIL.COM</td>\n",
       "      <td>1</td>\n",
       "    </tr>\n",
       "    <tr>\n",
       "      <th>14</th>\n",
       "      <td>CATHY333@OPTIONLINE.NET</td>\n",
       "      <td>1</td>\n",
       "    </tr>\n",
       "  </tbody>\n",
       "</table>\n",
       "</div>"
      ],
      "text/plain": [
       "                             0  1\n",
       "0         BBASSEN@EWHOWELL.COM  2\n",
       "1      EDWARDHICKSRA@YAHOO.COM  1\n",
       "2       JB@MESZENGINEERING.COM  1\n",
       "3            JEMMCO9@GMAIL.COM  1\n",
       "4        DWARFIELD@BANCKER.COM  1\n",
       "5              MIKIGAL@AOL.COM  2\n",
       "6         SHLOMONKUB@GMAIL.COM  1\n",
       "7          GLENBAKHSHI@AOL.COM  1\n",
       "8   FVILLANO@FPVCONSULTING.COM  1\n",
       "9      DENNISAUGUST@ICLOUD.COM  1\n",
       "10            JASON@RSFERS.COM  2\n",
       "11          ACLEMENZA@BECF.COM  1\n",
       "12      INFO@ZIENGINEERING.COM  1\n",
       "13    ARAMVCOLINARES@GMAIL.COM  1\n",
       "14     CATHY333@OPTIONLINE.NET  1"
      ]
     },
     "execution_count": 14,
     "metadata": {},
     "output_type": "execute_result"
    }
   ],
   "source": [
    "df.head(15)"
   ]
  },
  {
   "cell_type": "markdown",
   "metadata": {},
   "source": [
    "### Light weight: tokenizer:punc, aligner:None"
   ]
  },
  {
   "cell_type": "code",
   "execution_count": 15,
   "metadata": {
    "scrolled": true
   },
   "outputs": [
    {
     "name": "stdout",
     "output_type": "stream",
     "text": [
      "time taken: 0.061486244201660156\n"
     ]
    }
   ],
   "source": [
    "pf = PatternFinder(series=series,\n",
    "        tokenizer='punc',\n",
    "        aligner = None,\n",
    "        frac=.01)\n",
    "\n",
    "start_time = time.time()\n",
    "   \n",
    "regex = pf.find()\n",
    "\n",
    "end_time = time.time()\n",
    "\n",
    "print('time taken: {}'.format(end_time - start_time))"
   ]
  },
  {
   "cell_type": "code",
   "execution_count": 16,
   "metadata": {},
   "outputs": [
    {
     "data": {
      "text/html": [
       "<div>\n",
       "<style scoped>\n",
       "    .dataframe tbody tr th:only-of-type {\n",
       "        vertical-align: middle;\n",
       "    }\n",
       "\n",
       "    .dataframe tbody tr th {\n",
       "        vertical-align: top;\n",
       "    }\n",
       "\n",
       "    .dataframe thead th {\n",
       "        text-align: right;\n",
       "    }\n",
       "</style>\n",
       "<table border=\"1\" class=\"dataframe\">\n",
       "  <thead>\n",
       "    <tr style=\"text-align: right;\">\n",
       "      <th></th>\n",
       "      <th>index</th>\n",
       "      <th>Pattern</th>\n",
       "      <th>Generalized</th>\n",
       "      <th>Proportion</th>\n",
       "      <th>Sample</th>\n",
       "    </tr>\n",
       "  </thead>\n",
       "  <tbody>\n",
       "    <tr>\n",
       "      <th>0</th>\n",
       "      <td>5</td>\n",
       "      <td>[ALPHA(1-22) | ALPHANUM(4-18)] [PUNC(@-.)] [AL...</td>\n",
       "      <td>[ALPHANUM(1-22)] [PUNC(@-.)] [ALPHA(3-23)] [PU...</td>\n",
       "      <td>0.858696</td>\n",
       "      <td>[bestinteriorsinc, @, yahoo, ., com]</td>\n",
       "    </tr>\n",
       "    <tr>\n",
       "      <th>1</th>\n",
       "      <td>3</td>\n",
       "      <td>[joycon1st(9-9) | ALPHA(6-17)] [PUNC(.@)] [ALP...</td>\n",
       "      <td>[ALPHANUM(6-17)] [PUNC(.@)] [ALPHA(3-8)]</td>\n",
       "      <td>0.018116</td>\n",
       "      <td>[joycon1st, ., com]</td>\n",
       "    </tr>\n",
       "    <tr>\n",
       "      <th>2</th>\n",
       "      <td>7</td>\n",
       "      <td>[ALPHA(1-8) | frecchia51(10-10)] [PUNC(.@-_)] ...</td>\n",
       "      <td>[ALPHA(1-10)] [PUNC(.@-_)] [ALPHANUM(2-12)] [P...</td>\n",
       "      <td>0.105072</td>\n",
       "      <td>[arcadius, ., office, @, gmail, ., com]</td>\n",
       "    </tr>\n",
       "    <tr>\n",
       "      <th>3</th>\n",
       "      <td>9</td>\n",
       "      <td>[ALPHA(1-6)] [PUNC(.-@)] [ALPHA(1-10)] [PUNC(@...</td>\n",
       "      <td>[ALPHA(1-6)] [PUNC(.-@)] [ALPHA(1-10)] [PUNC(@...</td>\n",
       "      <td>0.018116</td>\n",
       "      <td>[lana, ., harrinanan, @, trinity, -, solar, .,...</td>\n",
       "    </tr>\n",
       "  </tbody>\n",
       "</table>\n",
       "</div>"
      ],
      "text/plain": [
       "   index                                            Pattern  \\\n",
       "0      5  [ALPHA(1-22) | ALPHANUM(4-18)] [PUNC(@-.)] [AL...   \n",
       "1      3  [joycon1st(9-9) | ALPHA(6-17)] [PUNC(.@)] [ALP...   \n",
       "2      7  [ALPHA(1-8) | frecchia51(10-10)] [PUNC(.@-_)] ...   \n",
       "3      9  [ALPHA(1-6)] [PUNC(.-@)] [ALPHA(1-10)] [PUNC(@...   \n",
       "\n",
       "                                         Generalized  Proportion  \\\n",
       "0  [ALPHANUM(1-22)] [PUNC(@-.)] [ALPHA(3-23)] [PU...    0.858696   \n",
       "1          [ALPHANUM(6-17)] [PUNC(.@)] [ALPHA(3-8)]     0.018116   \n",
       "2  [ALPHA(1-10)] [PUNC(.@-_)] [ALPHANUM(2-12)] [P...    0.105072   \n",
       "3  [ALPHA(1-6)] [PUNC(.-@)] [ALPHA(1-10)] [PUNC(@...    0.018116   \n",
       "\n",
       "                                              Sample  \n",
       "0               [bestinteriorsinc, @, yahoo, ., com]  \n",
       "1                                [joycon1st, ., com]  \n",
       "2            [arcadius, ., office, @, gmail, ., com]  \n",
       "3  [lana, ., harrinanan, @, trinity, -, solar, .,...  "
      ]
     },
     "execution_count": 16,
     "metadata": {},
     "output_type": "execute_result"
    }
   ],
   "source": [
    "pf.regex"
   ]
  },
  {
   "cell_type": "code",
   "execution_count": 17,
   "metadata": {
    "scrolled": true
   },
   "outputs": [
    {
     "data": {
      "text/plain": [
       "array(['[ALPHANUM(1-22)] [PUNC(@-.)] [ALPHA(3-23)] [PUNC(.)] [ALPHA(3-3)] ',\n",
       "       '[ALPHANUM(6-17)] [PUNC(.@)] [ALPHA(3-8)] ',\n",
       "       '[ALPHA(1-10)] [PUNC(.@-_)] [ALPHANUM(2-12)] [PUNC(@-.)] [ALPHA(2-17)] [PUNC(.)] [ALPHA(3-3)] ',\n",
       "       '[ALPHA(1-6)] [PUNC(.-@)] [ALPHA(1-10)] [PUNC(@-.)] [ALPHA(1-7)] [PUNC(-@.)] [ALPHA(2-7)] [PUNC(.)] [ALPHA(3-3)] '],\n",
       "      dtype=object)"
      ]
     },
     "execution_count": 17,
     "metadata": {},
     "output_type": "execute_result"
    }
   ],
   "source": [
    "pf.regex.Generalized.values\n",
    "# reasonable results but punctuations aggregated and it's difficult to tell this is an email column"
   ]
  },
  {
   "cell_type": "code",
   "execution_count": 18,
   "metadata": {
    "scrolled": true
   },
   "outputs": [
    {
     "data": {
      "text/plain": [
       "{'alson.electrical.live@gmail.com': 1,\n",
       " 'arc-ed@nyc.rr.com': 1,\n",
       " 'crsafetygroup.com': 1,\n",
       " 'daveyaimo@gmail': 1,\n",
       " 'g.intra-agi@hotmail.com': 1,\n",
       " 'joycon1st.com': 1,\n",
       " 'lana.harrinanan@trinity-solar.com': 1,\n",
       " 'matina@epochele': 1,\n",
       " 'tadformfactorynyc.com': 1,\n",
       " 'wilson@s-c-arch.com': 1}"
      ]
     },
     "execution_count": 18,
     "metadata": {},
     "output_type": "execute_result"
    }
   ],
   "source": [
    "pf.outliers"
   ]
  },
  {
   "cell_type": "markdown",
   "metadata": {},
   "source": [
    "______________________________________________________________________________________"
   ]
  },
  {
   "cell_type": "markdown",
   "metadata": {},
   "source": [
    "### Middle weight: tokenizer:punc, aligner:COMB"
   ]
  },
  {
   "cell_type": "code",
   "execution_count": 19,
   "metadata": {
    "scrolled": true
   },
   "outputs": [
    {
     "name": "stdout",
     "output_type": "stream",
     "text": [
      "time taken: 22.807870388031006\n"
     ]
    }
   ],
   "source": [
    "pf = PatternFinder(series=series,\n",
    "        tokenizer='punc',\n",
    "        aligner = 'COMB',\n",
    "        frac=.01)\n",
    "\n",
    "start_time = time.time()\n",
    "   \n",
    "regex = pf.find()\n",
    "\n",
    "end_time = time.time()\n",
    "\n",
    "print('time taken: {}'.format(end_time - start_time))\n"
   ]
  },
  {
   "cell_type": "code",
   "execution_count": 20,
   "metadata": {},
   "outputs": [
    {
     "data": {
      "text/html": [
       "<div>\n",
       "<style scoped>\n",
       "    .dataframe tbody tr th:only-of-type {\n",
       "        vertical-align: middle;\n",
       "    }\n",
       "\n",
       "    .dataframe tbody tr th {\n",
       "        vertical-align: top;\n",
       "    }\n",
       "\n",
       "    .dataframe thead th {\n",
       "        text-align: right;\n",
       "    }\n",
       "</style>\n",
       "<table border=\"1\" class=\"dataframe\">\n",
       "  <thead>\n",
       "    <tr style=\"text-align: right;\">\n",
       "      <th></th>\n",
       "      <th>index</th>\n",
       "      <th>Pattern</th>\n",
       "      <th>Generalized</th>\n",
       "      <th>Proportion</th>\n",
       "      <th>Sample</th>\n",
       "    </tr>\n",
       "  </thead>\n",
       "  <tbody>\n",
       "    <tr>\n",
       "      <th>0</th>\n",
       "      <td>0</td>\n",
       "      <td>[ALPHA(2-22) | ALPHANUM(4-18)] [PUNC(@)] [ALPH...</td>\n",
       "      <td>[ALPHANUM(2-22)] [PUNC(@)] [ALPHA(3-23)] [PUNC...</td>\n",
       "      <td>0.847826</td>\n",
       "      <td>[bestinteriorsinc, @, yahoo, ., com]</td>\n",
       "    </tr>\n",
       "    <tr>\n",
       "      <th>1</th>\n",
       "      <td>1</td>\n",
       "      <td>[ALPHA(6-8)] [PUNC(.)] [ALPHA(3-8)] [PUNC(@)] ...</td>\n",
       "      <td>[ALPHA(6-8)] [PUNC(.)] [ALPHA(3-8)] [PUNC(@)] ...</td>\n",
       "      <td>0.018116</td>\n",
       "      <td>[arcadius, ., office, @, gmail, ., com]</td>\n",
       "    </tr>\n",
       "    <tr>\n",
       "      <th>2</th>\n",
       "      <td>-1</td>\n",
       "      <td>NaN</td>\n",
       "      <td>NaN</td>\n",
       "      <td>0.134058</td>\n",
       "      <td>NaN</td>\n",
       "    </tr>\n",
       "  </tbody>\n",
       "</table>\n",
       "</div>"
      ],
      "text/plain": [
       "   index                                            Pattern  \\\n",
       "0      0  [ALPHA(2-22) | ALPHANUM(4-18)] [PUNC(@)] [ALPH...   \n",
       "1      1  [ALPHA(6-8)] [PUNC(.)] [ALPHA(3-8)] [PUNC(@)] ...   \n",
       "2     -1                                                NaN   \n",
       "\n",
       "                                         Generalized  Proportion  \\\n",
       "0  [ALPHANUM(2-22)] [PUNC(@)] [ALPHA(3-23)] [PUNC...    0.847826   \n",
       "1  [ALPHA(6-8)] [PUNC(.)] [ALPHA(3-8)] [PUNC(@)] ...    0.018116   \n",
       "2                                                NaN    0.134058   \n",
       "\n",
       "                                    Sample  \n",
       "0     [bestinteriorsinc, @, yahoo, ., com]  \n",
       "1  [arcadius, ., office, @, gmail, ., com]  \n",
       "2                                      NaN  "
      ]
     },
     "execution_count": 20,
     "metadata": {},
     "output_type": "execute_result"
    }
   ],
   "source": [
    "pf.regex"
   ]
  },
  {
   "cell_type": "code",
   "execution_count": 21,
   "metadata": {},
   "outputs": [
    {
     "data": {
      "text/plain": [
       "array(['[ALPHANUM(2-22)] [PUNC(@)] [ALPHA(3-23)] [PUNC(.)] [ALPHA(3-3)] ',\n",
       "       '[ALPHA(6-8)] [PUNC(.)] [ALPHA(3-8)] [PUNC(@)] [ALPHA(4-9)] [PUNC(.)] [ALPHA(3-3)] ',\n",
       "       nan], dtype=object)"
      ]
     },
     "execution_count": 21,
     "metadata": {},
     "output_type": "execute_result"
    }
   ],
   "source": [
    "pf.regex.Generalized.values\n",
    "# same results as before without encoding. Just demonstrating this. Encoding will be used to aggregate similar token types together later on"
   ]
  },
  {
   "cell_type": "code",
   "execution_count": 22,
   "metadata": {
    "scrolled": true
   },
   "outputs": [
    {
     "data": {
      "text/plain": [
       "{'alson.electrical.live@gmail.com': 1,\n",
       " 'andrew@dynami-inc.com': 1,\n",
       " 'arc-ed@nyc.rr.com': 1,\n",
       " 'arnold@cd-ae.com': 2,\n",
       " 'asf@only-if.com': 3,\n",
       " 'crsafetygroup.com': 1,\n",
       " 'daveyaimo@gmail': 1,\n",
       " 'dluczak@si.rr.com': 1,\n",
       " 'ed.fasttrack@gmail.com': 1,\n",
       " 'frecchia51.fr@gmail.com': 1,\n",
       " 'g.intra-agi@hotmail.com': 1,\n",
       " 'info@ecc-ny.com': 1,\n",
       " 'ip_statebuilder@yahoo.com': 1,\n",
       " 'j@jockdeboer.com': 1,\n",
       " 'jan.allen@amirit.com': 1,\n",
       " 'jim.agreseta@jacarpentry.com': 1,\n",
       " 'joe.dalonzo@cowbaycontracting.com': 2,\n",
       " 'joycon1st.com': 1,\n",
       " 'lana.harrinanan@trinity-solar.com': 1,\n",
       " 'mason-aid0013@optonline.net': 1,\n",
       " 'matina@epochele': 1,\n",
       " 'mcmsafetynet.gmail.com': 1,\n",
       " 'nelson@cb-construction.com': 1,\n",
       " 'p.singh09@hotmail.com': 1,\n",
       " 'patrick.mcalarney@lendlease.com': 1,\n",
       " 'pete.gerolimatos@ifathomcs.com': 2,\n",
       " 'rlepre@abra-avante.com': 1,\n",
       " 'sze@360-gc.com': 2,\n",
       " 'tadformfactorynyc.com': 1,\n",
       " 'touchstone-builders.com': 1,\n",
       " 'wilson@s-c-arch.com': 1}"
      ]
     },
     "execution_count": 22,
     "metadata": {},
     "output_type": "execute_result"
    }
   ],
   "source": [
    "pf.outliers"
   ]
  },
  {
   "cell_type": "markdown",
   "metadata": {},
   "source": [
    "_______________________________________________________________________________________"
   ]
  },
  {
   "cell_type": "markdown",
   "metadata": {},
   "source": [
    "### Heavyweight: encode using masterdata\n",
    "This approach aligns the internal representation of the tokens, instead of the tokens themselves and the distance (ETDE) is calculated between all supported class types"
   ]
  },
  {
   "cell_type": "code",
   "execution_count": 23,
   "metadata": {},
   "outputs": [],
   "source": [
    "filename = 'location.csv'\n",
    "FILEPATH = os.path.join(DATADIR, filename)"
   ]
  },
  {
   "cell_type": "code",
   "execution_count": 24,
   "metadata": {},
   "outputs": [],
   "source": [
    "df = pd.read_csv(FILEPATH, sep='\\t', squeeze=False, header=None)\n",
    "if df.shape[1] == 2:\n",
    "    series = df.set_index(0).squeeze().to_dict()\n",
    "elif df.shape[0] == 1:\n",
    "    series = df[0].tolist()\n",
    "else:\n",
    "    raise ValueError(file)"
   ]
  },
  {
   "cell_type": "code",
   "execution_count": 25,
   "metadata": {},
   "outputs": [
    {
     "data": {
      "text/plain": [
       "array(['137 HEBERTON AVENUE STATEN ISLAND NY (40.636779419508 -74.131313349744)',\n",
       "       1], dtype=object)"
      ]
     },
     "execution_count": 25,
     "metadata": {},
     "output_type": "execute_result"
    }
   ],
   "source": [
    "df.iloc[0].values"
   ]
  },
  {
   "cell_type": "code",
   "execution_count": 26,
   "metadata": {
    "scrolled": true
   },
   "outputs": [
    {
     "name": "stdout",
     "output_type": "stream",
     "text": [
      "time taken: 0.4212801456451416\n"
     ]
    }
   ],
   "source": [
    "pf = PatternFinder(series=series,\n",
    "        tokenizer='smart',\n",
    "        aligner='COMB', \n",
    "        distance='ETDE',\n",
    "        frac=1)\n",
    "\n",
    "start_time = time.time()\n",
    "   \n",
    "regex = pf.encode_and_find()\n",
    "\n",
    "end_time = time.time()\n",
    "\n",
    "print('time taken: {}'.format(end_time - start_time))"
   ]
  },
  {
   "cell_type": "code",
   "execution_count": 27,
   "metadata": {},
   "outputs": [
    {
     "data": {
      "text/html": [
       "<div>\n",
       "<style scoped>\n",
       "    .dataframe tbody tr th:only-of-type {\n",
       "        vertical-align: middle;\n",
       "    }\n",
       "\n",
       "    .dataframe tbody tr th {\n",
       "        vertical-align: top;\n",
       "    }\n",
       "\n",
       "    .dataframe thead th {\n",
       "        text-align: right;\n",
       "    }\n",
       "</style>\n",
       "<table border=\"1\" class=\"dataframe\">\n",
       "  <thead>\n",
       "    <tr style=\"text-align: right;\">\n",
       "      <th></th>\n",
       "      <th>index</th>\n",
       "      <th>Pattern</th>\n",
       "      <th>Generalized</th>\n",
       "      <th>Proportion</th>\n",
       "      <th>Sample</th>\n",
       "    </tr>\n",
       "  </thead>\n",
       "  <tbody>\n",
       "    <tr>\n",
       "      <th>0</th>\n",
       "      <td>0</td>\n",
       "      <td>[NUMERIC(1-4)] [PUNC(\\S)] [bay(3-3) | ALPHA(4-...</td>\n",
       "      <td>[NUMERIC(1-4)] [PUNC(\\S)] [ALPHA(3-8)] [PUNC(\\...</td>\n",
       "      <td>0.916667</td>\n",
       "      <td>25 bay terrace staten island ny (40.6066740001...</td>\n",
       "    </tr>\n",
       "    <tr>\n",
       "      <th>1</th>\n",
       "      <td>-1</td>\n",
       "      <td>NaN</td>\n",
       "      <td>NaN</td>\n",
       "      <td>0.083333</td>\n",
       "      <td>NaN</td>\n",
       "    </tr>\n",
       "  </tbody>\n",
       "</table>\n",
       "</div>"
      ],
      "text/plain": [
       "   index                                            Pattern  \\\n",
       "0      0  [NUMERIC(1-4)] [PUNC(\\S)] [bay(3-3) | ALPHA(4-...   \n",
       "1     -1                                                NaN   \n",
       "\n",
       "                                         Generalized  Proportion  \\\n",
       "0  [NUMERIC(1-4)] [PUNC(\\S)] [ALPHA(3-8)] [PUNC(\\...    0.916667   \n",
       "1                                                NaN    0.083333   \n",
       "\n",
       "                                              Sample  \n",
       "0  25 bay terrace staten island ny (40.6066740001...  \n",
       "1                                                NaN  "
      ]
     },
     "execution_count": 27,
     "metadata": {},
     "output_type": "execute_result"
    }
   ],
   "source": [
    "pf.regex"
   ]
  },
  {
   "cell_type": "code",
   "execution_count": 28,
   "metadata": {},
   "outputs": [
    {
     "data": {
      "text/plain": [
       "'[NUMERIC(1-4)] [PUNC(\\\\S)] [ALPHA(3-8)] [PUNC(\\\\S)] [STREET(4-9)] [PUNC(\\\\S)] [ALPHA(6-6)] [PUNC(\\\\S)] [STREET(6-6)] [PUNC(\\\\S)] [ALPHA(2-2)] [PUNC(\\\\S)] [PUNC(()] [NUMERIC(2-2)] [PUNC(.)] [NUMERIC(9-12)] [PUNC(\\\\S)] [PUNC(-)] [NUMERIC(2-2)] [PUNC(.)] [NUMERIC(10-12)] [PUNC())] '"
      ]
     },
     "execution_count": 28,
     "metadata": {},
     "output_type": "execute_result"
    }
   ],
   "source": [
    "pf.regex.Generalized.iloc[0]"
   ]
  },
  {
   "cell_type": "code",
   "execution_count": 29,
   "metadata": {
    "scrolled": true
   },
   "outputs": [
    {
     "data": {
      "text/plain": [
       "{'162 st marys avenue staten island ny (40.614004218866 -74.072557751113)': 2}"
      ]
     },
     "execution_count": 29,
     "metadata": {},
     "output_type": "execute_result"
    }
   ],
   "source": [
    "pf.outliers\n",
    "# all other row values have 22 tokens except 162 st marys avenue - it has 24 (st+<space>)"
   ]
  },
  {
   "cell_type": "markdown",
   "metadata": {},
   "source": [
    "________________________________________________________________________________________________________________"
   ]
  },
  {
   "cell_type": "markdown",
   "metadata": {},
   "source": [
    "### Pattern Finder Evaluate"
   ]
  },
  {
   "cell_type": "code",
   "execution_count": 30,
   "metadata": {},
   "outputs": [
    {
     "name": "stdout",
     "output_type": "stream",
     "text": [
      "time taken: 0.31163597106933594\n"
     ]
    }
   ],
   "source": [
    "# as a sanity check, applying the calculated patterns back to the same columns\n",
    "pf = PatternFinder(series=series,\n",
    "        tokenizer='smart',\n",
    "        aligner='COMB',\n",
    "        distance='ETDE',\n",
    "        frac=1)\n",
    "\n",
    "start_time = time.time()\n",
    "   \n",
    "regex = pf.encode_and_find()\n",
    "\n",
    "end_time = time.time()\n",
    "\n",
    "print('time taken: {}'.format(end_time - start_time))"
   ]
  },
  {
   "cell_type": "code",
   "execution_count": 31,
   "metadata": {},
   "outputs": [
    {
     "data": {
      "text/html": [
       "<div>\n",
       "<style scoped>\n",
       "    .dataframe tbody tr th:only-of-type {\n",
       "        vertical-align: middle;\n",
       "    }\n",
       "\n",
       "    .dataframe tbody tr th {\n",
       "        vertical-align: top;\n",
       "    }\n",
       "\n",
       "    .dataframe thead th {\n",
       "        text-align: right;\n",
       "    }\n",
       "</style>\n",
       "<table border=\"1\" class=\"dataframe\">\n",
       "  <thead>\n",
       "    <tr style=\"text-align: right;\">\n",
       "      <th></th>\n",
       "      <th>index</th>\n",
       "      <th>Pattern</th>\n",
       "      <th>Generalized</th>\n",
       "      <th>Proportion</th>\n",
       "      <th>Sample</th>\n",
       "    </tr>\n",
       "  </thead>\n",
       "  <tbody>\n",
       "    <tr>\n",
       "      <th>0</th>\n",
       "      <td>0</td>\n",
       "      <td>[NUMERIC(1-4)] [PUNC(\\S)] [bay(3-3) | ALPHA(4-...</td>\n",
       "      <td>[NUMERIC(1-4)] [PUNC(\\S)] [ALPHA(3-8)] [PUNC(\\...</td>\n",
       "      <td>0.916667</td>\n",
       "      <td>25 bay terrace staten island ny (40.6066740001...</td>\n",
       "    </tr>\n",
       "    <tr>\n",
       "      <th>1</th>\n",
       "      <td>-1</td>\n",
       "      <td>NaN</td>\n",
       "      <td>NaN</td>\n",
       "      <td>0.083333</td>\n",
       "      <td>NaN</td>\n",
       "    </tr>\n",
       "  </tbody>\n",
       "</table>\n",
       "</div>"
      ],
      "text/plain": [
       "   index                                            Pattern  \\\n",
       "0      0  [NUMERIC(1-4)] [PUNC(\\S)] [bay(3-3) | ALPHA(4-...   \n",
       "1     -1                                                NaN   \n",
       "\n",
       "                                         Generalized  Proportion  \\\n",
       "0  [NUMERIC(1-4)] [PUNC(\\S)] [ALPHA(3-8)] [PUNC(\\...    0.916667   \n",
       "1                                                NaN    0.083333   \n",
       "\n",
       "                                              Sample  \n",
       "0  25 bay terrace staten island ny (40.6066740001...  \n",
       "1                                                NaN  "
      ]
     },
     "execution_count": 31,
     "metadata": {},
     "output_type": "execute_result"
    }
   ],
   "source": [
    "pf.regex"
   ]
  },
  {
   "cell_type": "code",
   "execution_count": 32,
   "metadata": {},
   "outputs": [
    {
     "data": {
      "text/plain": [
       "{(0, 'Pattern'): 0.9166666666666666, (0, 'Generalized'): 0.7083333333333334}"
      ]
     },
     "execution_count": 32,
     "metadata": {},
     "output_type": "execute_result"
    }
   ],
   "source": [
    "# if encode_and_find used to generate the patterns, remember to set encode=True in evaluate (to use master data)\n",
    "# some patterns with domain types were generalized to alpha/alphanum etc hence the 70% match for generalized \n",
    "pf.evaluate(series, encode=True)"
   ]
  },
  {
   "cell_type": "markdown",
   "metadata": {},
   "source": [
    "________________________________________________________________________________________________________________"
   ]
  },
  {
   "cell_type": "code",
   "execution_count": 33,
   "metadata": {},
   "outputs": [
    {
     "name": "stdout",
     "output_type": "stream",
     "text": [
      "time taken: 0.27971577644348145\n"
     ]
    }
   ],
   "source": [
    "# without master data\n",
    "pf = PatternFinder(series=series,\n",
    "        tokenizer='punc',\n",
    "        frac=1)\n",
    "\n",
    "start_time = time.time()\n",
    "   \n",
    "regex = pf.find()\n",
    "\n",
    "end_time = time.time()\n",
    "\n",
    "print('time taken: {}'.format(end_time - start_time))"
   ]
  },
  {
   "cell_type": "code",
   "execution_count": 34,
   "metadata": {},
   "outputs": [
    {
     "data": {
      "text/plain": [
       "{(0, 'Pattern'): 0.9166666666666666, (0, 'Generalized'): 0.9166666666666666}"
      ]
     },
     "execution_count": 34,
     "metadata": {},
     "output_type": "execute_result"
    }
   ],
   "source": [
    "pf.evaluate(series)"
   ]
  },
  {
   "cell_type": "markdown",
   "metadata": {},
   "source": [
    "________________________________________________________________________________________________________________"
   ]
  },
  {
   "cell_type": "code",
   "execution_count": 35,
   "metadata": {},
   "outputs": [
    {
     "data": {
      "text/plain": [
       "{(0, 'Pattern'): 0.0, (0, 'Generalized'): 0.0}"
      ]
     },
     "execution_count": 35,
     "metadata": {},
     "output_type": "execute_result"
    }
   ],
   "source": [
    "# or just a random junky column\n",
    "new_col = [list(range(22)), list(range(22)), list(range(22))]\n",
    "pf.evaluate(new_col)"
   ]
  },
  {
   "cell_type": "code",
   "execution_count": null,
   "metadata": {},
   "outputs": [],
   "source": []
  },
  {
   "cell_type": "markdown",
   "metadata": {},
   "source": [
    "________________________________________________________________________________________"
   ]
  }
 ],
 "metadata": {
  "kernelspec": {
   "display_name": "Python 3",
   "language": "python",
   "name": "python3"
  },
  "language_info": {
   "codemirror_mode": {
    "name": "ipython",
    "version": 3
   },
   "file_extension": ".py",
   "mimetype": "text/x-python",
   "name": "python",
   "nbconvert_exporter": "python",
   "pygments_lexer": "ipython3",
   "version": "3.7.4"
  }
 },
 "nbformat": 4,
 "nbformat_minor": 1
}
