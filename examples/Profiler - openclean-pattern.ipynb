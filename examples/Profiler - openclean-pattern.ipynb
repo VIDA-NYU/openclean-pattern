{
 "cells": [
  {
   "cell_type": "markdown",
   "id": "2d8756ab",
   "metadata": {},
   "source": [
    "## Profiler - openclean_pattern"
   ]
  },
  {
   "cell_type": "markdown",
   "id": "33ad928d",
   "metadata": {},
   "source": [
    "In this notebook we create a new custom profiler for openclean that returns patterns for each column, using a pipeline we define in **openclean_pattern**."
   ]
  },
  {
   "cell_type": "markdown",
   "id": "3ef1ffaf",
   "metadata": {},
   "source": [
    "Let's first set up a pattern resolver pipeline. Our pipeline will consist of the following stages:\n",
    "1. Tokenization + Encoding\n",
    "2. Collection\n",
    "3. Alignment\n",
    "4. Regex generation"
   ]
  },
  {
   "cell_type": "markdown",
   "id": "7583c440",
   "metadata": {},
   "source": [
    "### Setting up"
   ]
  },
  {
   "cell_type": "code",
   "execution_count": 1,
   "id": "0bb1ddc9",
   "metadata": {
    "pycharm": {
     "is_executing": false
    }
   },
   "outputs": [],
   "source": [
    "# A tokenizer that identifies addresses types (e.g. ave, blvd etc) ,\n",
    "# as well as secondary unit descriptors (e.g. Apt, Unit etc) and default types (alpha, alphanum, numeric etc)\n",
    "\n",
    "from openclean_pattern.datatypes.resolver import AddressDesignatorResolver, DefaultTypeResolver\n",
    "from openclean_pattern.tokenize.regex import RegexTokenizer\n",
    "\n",
    "types_resolver = DefaultTypeResolver(interceptors=AddressDesignatorResolver())\n",
    "tokenizer = RegexTokenizer(type_resolver=types_resolver)"
   ]
  },
  {
   "cell_type": "code",
   "execution_count": 2,
   "id": "aea7eb50",
   "metadata": {
    "pycharm": {
     "is_executing": false
    }
   },
   "outputs": [],
   "source": [
    "# The collection stage groups similar type values, e.g. all alphas could be a single group \n",
    "# and all digits a separate one and a pattern will be generated per group\n",
    "\n",
    "from openclean_pattern.collect.cluster import Cluster\n",
    "\n",
    "# We shall use the tree edit distance and 3 samples minimum as the epsilon here.\n",
    "# The cluster collector is an implementation of the DBSCAN clusterer\n",
    "collector = Cluster(dist='TED', min_samples= 3) "
   ]
  },
  {
   "cell_type": "code",
   "execution_count": 3,
   "id": "3ca2cd2a",
   "metadata": {
    "pycharm": {
     "is_executing": false
    }
   },
   "outputs": [],
   "source": [
    "# The Progressive Aligner uses techniques from biostatistics to add gaps an align values in groups\n",
    "# This will ensure that values such as '3 John Avenue' (Num, Alpha, Street) and 23 Blvd (Num, Street)\n",
    "# are aligned as (Num, Alpha, Street) <==> (Num, Gap, Street) if they appear in the same group\n",
    "\n",
    "from openclean_pattern.align.progressive import ProgressiveAligner\n",
    "\n",
    "aligner = ProgressiveAligner()"
   ]
  },
  {
   "cell_type": "code",
   "execution_count": 4,
   "id": "f5fb2fac",
   "metadata": {
    "pycharm": {
     "is_executing": false
    }
   },
   "outputs": [],
   "source": [
    "# The final stage is generating regular expressions from these preprocessed values\n",
    "\n",
    "from openclean_pattern.regex.compiler import DefaultRegexCompiler\n",
    "\n",
    "compiler = DefaultRegexCompiler(per_group='top') # returns only the most dominant expression per group"
   ]
  },
  {
   "cell_type": "markdown",
   "id": "9e1adc42",
   "metadata": {},
   "source": [
    "Now let's put it all together and see it in action"
   ]
  },
  {
   "cell_type": "code",
   "execution_count": 5,
   "id": "faf69fe0",
   "metadata": {
    "pycharm": {
     "is_executing": false
    }
   },
   "outputs": [],
   "source": [
    "from openclean.profiling.pattern.base import PatternFinder\n",
    "\n",
    "class CustomPatternFinder(PatternFinder):\n",
    "    \"\"\"finds regex patterns as per the defined pipeline\"\"\"\n",
    "    \n",
    "    def process(self, values):\n",
    "        return self.find(values)\n",
    "    \n",
    "    def find(self, values):\n",
    "        # get all distinct values\n",
    "        values = list(set(values))\n",
    "        \n",
    "        # tokenize\n",
    "        tokens = list()\n",
    "        for t in values:\n",
    "            tokens.append(tokenizer.tokens(t))\n",
    "        \n",
    "        # collect\n",
    "        groups = collector.collect(tokens)\n",
    "        \n",
    "        # align\n",
    "        aligned = aligner.align(tokens, groups)\n",
    "        \n",
    "        # compile\n",
    "        patterns = list()\n",
    "        for gr in groups:\n",
    "            patterns.append(compiler.compile_each(aligned[gr]))\n",
    "        \n",
    "        # define a pattern selection strategy from multiple dominant patterns\n",
    "        if patterns:\n",
    "            return patterns[0]\n",
    "        \n",
    "        return None"
   ]
  },
  {
   "cell_type": "markdown",
   "id": "0f089ea9",
   "metadata": {},
   "source": [
    "### Testing the pattern finder"
   ]
  },
  {
   "cell_type": "code",
   "execution_count": 6,
   "id": "17fb0d28",
   "metadata": {
    "pycharm": {
     "is_executing": false
    }
   },
   "outputs": [],
   "source": [
    "import pandas as pd\n",
    "\n",
    "values = pd.DataFrame(['23 Hoyt Street', '31 West Avenue', '50 Bitcoin Blvd'])\n",
    "values.columns = ['Address']"
   ]
  },
  {
   "cell_type": "code",
   "execution_count": 7,
   "id": "f4897782",
   "metadata": {
    "pycharm": {
     "is_executing": false
    }
   },
   "outputs": [
    {
     "data": {
      "text/plain": [
       "RowPatterns(NUMERIC \\S ALPHA \\S STREET)"
      ]
     },
     "execution_count": 7,
     "metadata": {},
     "output_type": "execute_result"
    }
   ],
   "source": [
    "profiler = CustomPatternFinder()\n",
    "profiler.find(values['Address'].to_list())"
   ]
  },
  {
   "cell_type": "markdown",
   "id": "005ea437",
   "metadata": {},
   "source": [
    "### Adding to openclean-core profilers"
   ]
  },
  {
   "cell_type": "code",
   "execution_count": 8,
   "id": "497f0c66",
   "metadata": {},
   "outputs": [],
   "source": [
    "from openclean.profiling.dataset import dataset_profile\n",
    "\n",
    "patterns = dataset_profile(values, [('Address', profiler)])"
   ]
  },
  {
   "cell_type": "code",
   "execution_count": 9,
   "id": "39c35727",
   "metadata": {},
   "outputs": [
    {
     "data": {
      "text/plain": [
       "[{'column': 'Address', 'stats': RowPatterns(NUMERIC \\S ALPHA \\S STREET)}]"
      ]
     },
     "execution_count": 9,
     "metadata": {},
     "output_type": "execute_result"
    }
   ],
   "source": [
    "patterns"
   ]
  }
 ],
 "metadata": {
  "kernelspec": {
   "display_name": "PyCharm (openclean-core)",
   "language": "python",
   "name": "pycharm-c6d12a8"
  },
  "language_info": {
   "codemirror_mode": {
    "name": "ipython",
    "version": 3
   },
   "file_extension": ".py",
   "mimetype": "text/x-python",
   "name": "python",
   "nbconvert_exporter": "python",
   "pygments_lexer": "ipython3",
   "version": "3.7.4"
  }
 },
 "nbformat": 4,
 "nbformat_minor": 5
}
